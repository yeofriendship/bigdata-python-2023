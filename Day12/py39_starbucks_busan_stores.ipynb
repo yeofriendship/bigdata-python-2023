{
 "cells": [
  {
   "attachments": {},
   "cell_type": "markdown",
   "metadata": {},
   "source": [
    "#### 스타벅스 서울시 매장 위치 크롤링\n",
    "\n",
    "##### 스타벅스 웹 사이트\n",
    ": https://www.starbucks.co.kr/index.do"
   ]
  },
  {
   "cell_type": "code",
   "execution_count": 1,
   "metadata": {},
   "outputs": [
    {
     "name": "stderr",
     "output_type": "stream",
     "text": [
      "C:\\Users\\Administrator\\AppData\\Local\\Temp\\ipykernel_11568\\184023847.py:6: TqdmWarning: IProgress not found. Please update jupyter and ipywidgets. See https://ipywidgets.readthedocs.io/en/stable/user_install.html\n",
      "  from tqdm.autonotebook import tqdm\n"
     ]
    }
   ],
   "source": [
    "# 셀레니움 등 라이브러리 임포트\n",
    "from selenium import webdriver\n",
    "from selenium.webdriver.common.by import By\n",
    "from bs4 import BeautifulSoup\n",
    "import pandas as pd\n",
    "from tqdm.autonotebook import tqdm"
   ]
  },
  {
   "cell_type": "code",
   "execution_count": 2,
   "metadata": {},
   "outputs": [],
   "source": [
    "# 크롬 웹 드라이버 실행\n",
    "driver = webdriver.Chrome()\n",
    "url = 'https://www.starbucks.co.kr/store/store_map.do?disp=locale'\n",
    "driver.get(url)"
   ]
  },
  {
   "cell_type": "code",
   "execution_count": 6,
   "metadata": {},
   "outputs": [],
   "source": [
    "# 웹 드라이버 선택할 위치값 작성 (20년 8월과 동일)\n",
    "btn_busan = '#container > div > form > fieldset > div > section > article.find_store_cont > ' + \\\n",
    "            'article > article:nth-child(4) > div.loca_step1 > div.loca_step1_cont > ul > ' + \\\n",
    "            'li:nth-child(6) > a'\n",
    "# btn_busan\n",
    "\n",
    "driver.find_element(By.CSS_SELECTOR, btn_busan).click()"
   ]
  },
  {
   "cell_type": "code",
   "execution_count": 7,
   "metadata": {},
   "outputs": [],
   "source": [
    "# 부산이 선택된 상태\n",
    "# '전체' 클릭\n",
    "btn_all = '#mCSB_2_container > ul > li > a'\n",
    "driver.find_element(By.CSS_SELECTOR, btn_all).click()"
   ]
  },
  {
   "cell_type": "code",
   "execution_count": 8,
   "metadata": {},
   "outputs": [],
   "source": [
    "# 스타벅스는 한 화면에 전부 리스트업되기 때문에 함수를 만들 필요 없음\n",
    "html = driver.page_source\n",
    "soup = BeautifulSoup(html, 'html.parser')\n",
    "# soup"
   ]
  },
  {
   "cell_type": "code",
   "execution_count": 9,
   "metadata": {},
   "outputs": [
    {
     "data": {
      "text/plain": [
       "137"
      ]
     },
     "execution_count": 9,
     "metadata": {},
     "output_type": "execute_result"
    }
   ],
   "source": [
    "# 검색 결과 위치 가져오기\n",
    "starbucks_soup_list = soup.select('li.quickResultLstCon')\n",
    "len(starbucks_soup_list)"
   ]
  },
  {
   "cell_type": "code",
   "execution_count": 10,
   "metadata": {},
   "outputs": [
    {
     "data": {
      "text/plain": [
       "<li class=\"quickResultLstCon\" data-code=\"3705\" data-hlytag=\"null\" data-index=\"0\" data-lat=\"35.262466\" data-long=\"129.091353\" data-name=\"금정남산동DT\" data-storecd=\"1605\" style=\"background:#fff\"> <strong data-my_siren_order_store_yn=\"N\" data-name=\"금정남산동DT\" data-store=\"1605\" data-yn=\"N\">금정남산동DT  </strong> <p class=\"result_details\">부산광역시 금정구 중앙대로 1989 (남산동)<br/>1522-3232</p> <i class=\"pin_generalDT\">리저브 매장 2번</i></li>"
      ]
     },
     "execution_count": 10,
     "metadata": {},
     "output_type": "execute_result"
    }
   ],
   "source": [
    "starbucks_soup_list[0]"
   ]
  },
  {
   "cell_type": "code",
   "execution_count": 11,
   "metadata": {},
   "outputs": [
    {
     "name": "stdout",
     "output_type": "stream",
     "text": [
      "금정남산동DT\n",
      "35.262466 / 129.091353\n",
      "generalDT\n",
      "부산광역시 금정구 중앙대로 1989 (남산동)\n"
     ]
    }
   ],
   "source": [
    "# 매장 정보 확인\n",
    "starbucks_store = starbucks_soup_list[0]\n",
    "name = starbucks_store.select('strong')[0].text.strip()\n",
    "lat = starbucks_store['data-lat'].strip()\n",
    "lng = starbucks_store['data-long'].strip()\n",
    "store_type = starbucks_store.select('i')[0]['class'][0].split('_')[1] # _로 자르면 두번째 값이 general/reserve\n",
    "address = starbucks_store.select('p')[0].get_text(separator='|').split('|')[0]\n",
    "\n",
    "print(name) # 매장명\n",
    "print(lat, lng, sep=' / ') # 위도, 경도 (매장 지도 위치)\n",
    "print(store_type)\n",
    "print(address)"
   ]
  },
  {
   "cell_type": "code",
   "execution_count": 12,
   "metadata": {},
   "outputs": [
    {
     "name": "stderr",
     "output_type": "stream",
     "text": [
      "100%|██████████| 137/137 [00:00<00:00, 6854.01it/s]\n"
     ]
    }
   ],
   "source": [
    "# 137개 매장 데이터 가져오기\n",
    "starbucks_seoul_list = []\n",
    "\n",
    "for item in tqdm(starbucks_soup_list):\n",
    "    name = item.select('strong')[0].text.strip()\n",
    "    lat = item['data-lat'].strip()\n",
    "    lng = item['data-long'].strip()\n",
    "    store_type = item.select('i')[0]['class'][0].split('_')[1] # _로 자르면 두번째 값이 general/reserve\n",
    "    address = item.select('p')[0].get_text(separator='|').split('|')[0]\n",
    "\n",
    "    starbucks_seoul_list.append([name, lat, lng, store_type, address])"
   ]
  },
  {
   "cell_type": "code",
   "execution_count": 13,
   "metadata": {},
   "outputs": [
    {
     "data": {
      "text/plain": [
       "137"
      ]
     },
     "execution_count": 13,
     "metadata": {},
     "output_type": "execute_result"
    }
   ],
   "source": [
    "len(starbucks_seoul_list)"
   ]
  },
  {
   "cell_type": "code",
   "execution_count": 14,
   "metadata": {},
   "outputs": [
    {
     "data": {
      "text/html": [
       "<div>\n",
       "<style scoped>\n",
       "    .dataframe tbody tr th:only-of-type {\n",
       "        vertical-align: middle;\n",
       "    }\n",
       "\n",
       "    .dataframe tbody tr th {\n",
       "        vertical-align: top;\n",
       "    }\n",
       "\n",
       "    .dataframe thead th {\n",
       "        text-align: right;\n",
       "    }\n",
       "</style>\n",
       "<table border=\"1\" class=\"dataframe\">\n",
       "  <thead>\n",
       "    <tr style=\"text-align: right;\">\n",
       "      <th></th>\n",
       "      <th>매장명</th>\n",
       "      <th>위도</th>\n",
       "      <th>경도</th>\n",
       "      <th>매장 타입</th>\n",
       "      <th>주소</th>\n",
       "    </tr>\n",
       "  </thead>\n",
       "  <tbody>\n",
       "    <tr>\n",
       "      <th>0</th>\n",
       "      <td>금정남산동DT</td>\n",
       "      <td>35.262466</td>\n",
       "      <td>129.091353</td>\n",
       "      <td>generalDT</td>\n",
       "      <td>부산광역시 금정구 중앙대로 1989 (남산동)</td>\n",
       "    </tr>\n",
       "    <tr>\n",
       "      <th>1</th>\n",
       "      <td>금정구청DT</td>\n",
       "      <td>35.238784</td>\n",
       "      <td>129.092964</td>\n",
       "      <td>generalDT</td>\n",
       "      <td>부산광역시 금정구 중앙대로 1730 (부곡동)</td>\n",
       "    </tr>\n",
       "    <tr>\n",
       "      <th>2</th>\n",
       "      <td>온천장역DT</td>\n",
       "      <td>35.224006</td>\n",
       "      <td>129.08656</td>\n",
       "      <td>generalDT</td>\n",
       "      <td>부산광역시 금정구 식물원로 13 (장전동)</td>\n",
       "    </tr>\n",
       "    <tr>\n",
       "      <th>3</th>\n",
       "      <td>부산대정문</td>\n",
       "      <td>35.232107</td>\n",
       "      <td>129.084565</td>\n",
       "      <td>general</td>\n",
       "      <td>부산광역시 금정구 부산대학로64번길 12 (장전동)</td>\n",
       "    </tr>\n",
       "    <tr>\n",
       "      <th>4</th>\n",
       "      <td>부산대역</td>\n",
       "      <td>35.230722</td>\n",
       "      <td>129.088165</td>\n",
       "      <td>general</td>\n",
       "      <td>부산광역시 금정구 장전로12번길 64, 1~4층 (장전동)</td>\n",
       "    </tr>\n",
       "    <tr>\n",
       "      <th>...</th>\n",
       "      <td>...</td>\n",
       "      <td>...</td>\n",
       "      <td>...</td>\n",
       "      <td>...</td>\n",
       "      <td>...</td>\n",
       "    </tr>\n",
       "    <tr>\n",
       "      <th>132</th>\n",
       "      <td>해운대 엑스더스카이</td>\n",
       "      <td>35.1599648</td>\n",
       "      <td>129.1697564</td>\n",
       "      <td>general</td>\n",
       "      <td>부산광역시 해운대구 달맞이길30</td>\n",
       "    </tr>\n",
       "    <tr>\n",
       "      <th>133</th>\n",
       "      <td>센텀신세계3F</td>\n",
       "      <td>35.16906348</td>\n",
       "      <td>129.12906568</td>\n",
       "      <td>general</td>\n",
       "      <td>부산광역시 해운대구 센텀남대로 35 (우동)</td>\n",
       "    </tr>\n",
       "    <tr>\n",
       "      <th>134</th>\n",
       "      <td>해운대중동역</td>\n",
       "      <td>35.1671846</td>\n",
       "      <td>129.1678855</td>\n",
       "      <td>general</td>\n",
       "      <td>부산광역시 해운대구 좌동순환로 6 (중동)</td>\n",
       "    </tr>\n",
       "    <tr>\n",
       "      <th>135</th>\n",
       "      <td>센텀몰1F</td>\n",
       "      <td>35.16981023</td>\n",
       "      <td>129.12778297</td>\n",
       "      <td>general</td>\n",
       "      <td>부산광역시 해운대구 센텀4로 15 (우동)</td>\n",
       "    </tr>\n",
       "    <tr>\n",
       "      <th>136</th>\n",
       "      <td>그랜드조선 부산</td>\n",
       "      <td>35.1600338</td>\n",
       "      <td>129.1630512</td>\n",
       "      <td>general</td>\n",
       "      <td>부산광역시 해운대구 해운대해변로 292 (중동)</td>\n",
       "    </tr>\n",
       "  </tbody>\n",
       "</table>\n",
       "<p>137 rows × 5 columns</p>\n",
       "</div>"
      ],
      "text/plain": [
       "            매장명           위도            경도      매장 타입  \\\n",
       "0       금정남산동DT    35.262466    129.091353  generalDT   \n",
       "1        금정구청DT    35.238784    129.092964  generalDT   \n",
       "2        온천장역DT    35.224006     129.08656  generalDT   \n",
       "3         부산대정문    35.232107    129.084565    general   \n",
       "4          부산대역    35.230722    129.088165    general   \n",
       "..          ...          ...           ...        ...   \n",
       "132  해운대 엑스더스카이   35.1599648   129.1697564    general   \n",
       "133     센텀신세계3F  35.16906348  129.12906568    general   \n",
       "134      해운대중동역   35.1671846   129.1678855    general   \n",
       "135       센텀몰1F  35.16981023  129.12778297    general   \n",
       "136    그랜드조선 부산   35.1600338   129.1630512    general   \n",
       "\n",
       "                                   주소  \n",
       "0           부산광역시 금정구 중앙대로 1989 (남산동)  \n",
       "1           부산광역시 금정구 중앙대로 1730 (부곡동)  \n",
       "2             부산광역시 금정구 식물원로 13 (장전동)  \n",
       "3        부산광역시 금정구 부산대학로64번길 12 (장전동)  \n",
       "4    부산광역시 금정구 장전로12번길 64, 1~4층 (장전동)  \n",
       "..                                ...  \n",
       "132                부산광역시 해운대구 달맞이길30   \n",
       "133          부산광역시 해운대구 센텀남대로 35 (우동)  \n",
       "134           부산광역시 해운대구 좌동순환로 6 (중동)  \n",
       "135           부산광역시 해운대구 센텀4로 15 (우동)  \n",
       "136        부산광역시 해운대구 해운대해변로 292 (중동)  \n",
       "\n",
       "[137 rows x 5 columns]"
      ]
     },
     "execution_count": 14,
     "metadata": {},
     "output_type": "execute_result"
    }
   ],
   "source": [
    "# DataFrame 생성\n",
    "columns = ['매장명', '위도', '경도', '매장 타입', '주소']\n",
    "df = pd.DataFrame(starbucks_seoul_list, columns=columns)\n",
    "df"
   ]
  },
  {
   "cell_type": "code",
   "execution_count": 15,
   "metadata": {},
   "outputs": [
    {
     "name": "stdout",
     "output_type": "stream",
     "text": [
      "<class 'pandas.core.frame.DataFrame'>\n",
      "RangeIndex: 137 entries, 0 to 136\n",
      "Data columns (total 5 columns):\n",
      " #   Column  Non-Null Count  Dtype \n",
      "---  ------  --------------  ----- \n",
      " 0   매장명     137 non-null    object\n",
      " 1   위도      137 non-null    object\n",
      " 2   경도      137 non-null    object\n",
      " 3   매장 타입   137 non-null    object\n",
      " 4   주소      137 non-null    object\n",
      "dtypes: object(5)\n",
      "memory usage: 5.5+ KB\n"
     ]
    }
   ],
   "source": [
    "df.info()"
   ]
  },
  {
   "cell_type": "code",
   "execution_count": 16,
   "metadata": {},
   "outputs": [],
   "source": [
    "# 엑셀로 저장\n",
    "df.to_excel('./busan_starbucks.xlsx', index=False)"
   ]
  }
 ],
 "metadata": {
  "kernelspec": {
   "display_name": "Python 3",
   "language": "python",
   "name": "python3"
  },
  "language_info": {
   "codemirror_mode": {
    "name": "ipython",
    "version": 3
   },
   "file_extension": ".py",
   "mimetype": "text/x-python",
   "name": "python",
   "nbconvert_exporter": "python",
   "pygments_lexer": "ipython3",
   "version": "3.11.4"
  },
  "orig_nbformat": 4,
  "vscode": {
   "interpreter": {
    "hash": "5238573367df39f7286bb46f9ff5f08f63a01a80960060ce41e3c79b190280fa"
   }
  }
 },
 "nbformat": 4,
 "nbformat_minor": 2
}
