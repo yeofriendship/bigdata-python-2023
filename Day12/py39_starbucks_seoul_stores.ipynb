{
 "cells": [
  {
   "attachments": {},
   "cell_type": "markdown",
   "metadata": {},
   "source": [
    "#### 스타벅스 서울시 매장 위치 크롤링\n",
    "\n",
    "##### 스타벅스 웹 사이트\n",
    ": https://www.starbucks.co.kr/index.do"
   ]
  },
  {
   "cell_type": "code",
   "execution_count": 32,
   "metadata": {},
   "outputs": [],
   "source": [
    "# 셀레니움 등 라이브러리 임포트\n",
    "from selenium import webdriver\n",
    "from selenium.webdriver.common.by import By\n",
    "from bs4 import BeautifulSoup\n",
    "import pandas as pd\n",
    "from tqdm.autonotebook import tqdm"
   ]
  },
  {
   "cell_type": "code",
   "execution_count": 4,
   "metadata": {},
   "outputs": [],
   "source": [
    "# 크롬 웹 드라이버 실행\n",
    "driver = webdriver.Chrome()\n",
    "url = 'https://www.starbucks.co.kr/store/store_map.do?disp=locale'\n",
    "driver.get(url)"
   ]
  },
  {
   "cell_type": "code",
   "execution_count": 7,
   "metadata": {},
   "outputs": [],
   "source": [
    "# 웹 드라이버 선택할 위치값 작성 (20년 8월과 동일)\n",
    "btn_seoul = '#container > div > form > fieldset > div > section > article.find_store_cont > ' + \\\n",
    "            'article > article:nth-child(4) > div.loca_step1 > div.loca_step1_cont > ul > ' + \\\n",
    "            'li:nth-child(1) > a'\n",
    "# btn_seoul\n",
    "\n",
    "driver.find_element(By.CSS_SELECTOR, btn_seoul).click()"
   ]
  },
  {
   "cell_type": "code",
   "execution_count": 11,
   "metadata": {},
   "outputs": [],
   "source": [
    "# 서울이 선택된 상태\n",
    "# '전체' 클릭\n",
    "btn_all = '#mCSB_2_container > ul > li > a'\n",
    "driver.find_element(By.CSS_SELECTOR, btn_all).click()"
   ]
  },
  {
   "cell_type": "code",
   "execution_count": 14,
   "metadata": {},
   "outputs": [],
   "source": [
    "# 스타벅스는 한 화면에 전부 리스트업되기 때문에 함수를 만들 필요 없음\n",
    "html = driver.page_source\n",
    "soup = BeautifulSoup(html, 'html.parser')\n",
    "# soup"
   ]
  },
  {
   "cell_type": "code",
   "execution_count": 16,
   "metadata": {},
   "outputs": [
    {
     "data": {
      "text/plain": [
       "600"
      ]
     },
     "execution_count": 16,
     "metadata": {},
     "output_type": "execute_result"
    }
   ],
   "source": [
    "# 검색 결과 위치 가져오기\n",
    "starbucks_soup_list = soup.select('li.quickResultLstCon')\n",
    "len(starbucks_soup_list)"
   ]
  },
  {
   "cell_type": "code",
   "execution_count": 17,
   "metadata": {},
   "outputs": [
    {
     "data": {
      "text/plain": [
       "<li class=\"quickResultLstCon\" data-code=\"3762\" data-hlytag=\"null\" data-index=\"0\" data-lat=\"37.501087\" data-long=\"127.043069\" data-name=\"역삼아레나빌딩\" data-storecd=\"1509\" style=\"background:#fff\"> <strong data-my_siren_order_store_yn=\"N\" data-name=\"역삼아레나빌딩\" data-store=\"1509\" data-yn=\"N\">역삼아레나빌딩  </strong> <p class=\"result_details\">서울특별시 강남구 언주로 425 (역삼동)<br/>1522-3232</p> <i class=\"pin_general\">리저브 매장 2번</i></li>"
      ]
     },
     "execution_count": 17,
     "metadata": {},
     "output_type": "execute_result"
    }
   ],
   "source": [
    "starbucks_soup_list[0]"
   ]
  },
  {
   "cell_type": "code",
   "execution_count": 31,
   "metadata": {},
   "outputs": [
    {
     "name": "stdout",
     "output_type": "stream",
     "text": [
      "역삼아레나빌딩\n",
      "37.501087 / 127.043069\n",
      "general\n",
      "서울특별시 강남구 언주로 425 (역삼동)\n"
     ]
    }
   ],
   "source": [
    "# 매장 정보 확인\n",
    "starbucks_store = starbucks_soup_list[0]\n",
    "name = starbucks_store.select('strong')[0].text.strip()\n",
    "lat = starbucks_store['data-lat'].strip()\n",
    "lng = starbucks_store['data-long'].strip()\n",
    "store_type = starbucks_store.select('i')[0]['class'][0].split('_')[1] # _로 자르면 두번째 값이 general/reserve\n",
    "address = starbucks_store.select('p')[0].get_text(separator='|').split('|')[0]\n",
    "\n",
    "print(name) # 매장명\n",
    "print(lat, lng, sep=' / ') # 위도, 경도 (매장 지도 위치)\n",
    "print(store_type)\n",
    "print(address)"
   ]
  },
  {
   "cell_type": "code",
   "execution_count": 33,
   "metadata": {},
   "outputs": [
    {
     "name": "stderr",
     "output_type": "stream",
     "text": [
      "100%|██████████| 600/600 [00:00<00:00, 8224.99it/s]\n"
     ]
    }
   ],
   "source": [
    "# 600개 매장 데이터 가져오기\n",
    "starbucks_seoul_list = []\n",
    "\n",
    "for item in tqdm(starbucks_soup_list):\n",
    "    name = item.select('strong')[0].text.strip()\n",
    "    lat = item['data-lat'].strip()\n",
    "    lng = item['data-long'].strip()\n",
    "    store_type = item.select('i')[0]['class'][0].split('_')[1] # _로 자르면 두번째 값이 general/reserve\n",
    "    address = item.select('p')[0].get_text(separator='|').split('|')[0]\n",
    "\n",
    "    starbucks_seoul_list.append([name, lat, lng, store_type, address])"
   ]
  },
  {
   "cell_type": "code",
   "execution_count": 34,
   "metadata": {},
   "outputs": [
    {
     "data": {
      "text/plain": [
       "600"
      ]
     },
     "execution_count": 34,
     "metadata": {},
     "output_type": "execute_result"
    }
   ],
   "source": [
    "len(starbucks_seoul_list)"
   ]
  },
  {
   "cell_type": "code",
   "execution_count": 35,
   "metadata": {},
   "outputs": [
    {
     "data": {
      "text/html": [
       "<div>\n",
       "<style scoped>\n",
       "    .dataframe tbody tr th:only-of-type {\n",
       "        vertical-align: middle;\n",
       "    }\n",
       "\n",
       "    .dataframe tbody tr th {\n",
       "        vertical-align: top;\n",
       "    }\n",
       "\n",
       "    .dataframe thead th {\n",
       "        text-align: right;\n",
       "    }\n",
       "</style>\n",
       "<table border=\"1\" class=\"dataframe\">\n",
       "  <thead>\n",
       "    <tr style=\"text-align: right;\">\n",
       "      <th></th>\n",
       "      <th>매장명</th>\n",
       "      <th>위도</th>\n",
       "      <th>경도</th>\n",
       "      <th>매장 타입</th>\n",
       "      <th>주소</th>\n",
       "    </tr>\n",
       "  </thead>\n",
       "  <tbody>\n",
       "    <tr>\n",
       "      <th>0</th>\n",
       "      <td>역삼아레나빌딩</td>\n",
       "      <td>37.501087</td>\n",
       "      <td>127.043069</td>\n",
       "      <td>general</td>\n",
       "      <td>서울특별시 강남구 언주로 425 (역삼동)</td>\n",
       "    </tr>\n",
       "    <tr>\n",
       "      <th>1</th>\n",
       "      <td>논현역사거리</td>\n",
       "      <td>37.510178</td>\n",
       "      <td>127.022223</td>\n",
       "      <td>general</td>\n",
       "      <td>서울특별시 강남구 강남대로 538 (논현동)</td>\n",
       "    </tr>\n",
       "    <tr>\n",
       "      <th>2</th>\n",
       "      <td>신사역성일빌딩</td>\n",
       "      <td>37.5139309</td>\n",
       "      <td>127.0206057</td>\n",
       "      <td>general</td>\n",
       "      <td>서울특별시 강남구 강남대로 584 (논현동)</td>\n",
       "    </tr>\n",
       "    <tr>\n",
       "      <th>3</th>\n",
       "      <td>국기원사거리</td>\n",
       "      <td>37.499517</td>\n",
       "      <td>127.031495</td>\n",
       "      <td>general</td>\n",
       "      <td>서울특별시 강남구 테헤란로 125 (역삼동)</td>\n",
       "    </tr>\n",
       "    <tr>\n",
       "      <th>4</th>\n",
       "      <td>대치재경빌딩R</td>\n",
       "      <td>37.494668</td>\n",
       "      <td>127.062583</td>\n",
       "      <td>reserve</td>\n",
       "      <td>서울특별시 강남구 남부순환로 2947 (대치동)</td>\n",
       "    </tr>\n",
       "    <tr>\n",
       "      <th>...</th>\n",
       "      <td>...</td>\n",
       "      <td>...</td>\n",
       "      <td>...</td>\n",
       "      <td>...</td>\n",
       "      <td>...</td>\n",
       "    </tr>\n",
       "    <tr>\n",
       "      <th>595</th>\n",
       "      <td>사가정역</td>\n",
       "      <td>37.579594</td>\n",
       "      <td>127.087966</td>\n",
       "      <td>general</td>\n",
       "      <td>서울특별시 중랑구 면목로 310</td>\n",
       "    </tr>\n",
       "    <tr>\n",
       "      <th>596</th>\n",
       "      <td>상봉역</td>\n",
       "      <td>37.59689</td>\n",
       "      <td>127.08647</td>\n",
       "      <td>general</td>\n",
       "      <td>서울특별시 중랑구 망우로 307 (상봉동)</td>\n",
       "    </tr>\n",
       "    <tr>\n",
       "      <th>597</th>\n",
       "      <td>묵동</td>\n",
       "      <td>37.615368</td>\n",
       "      <td>127.076633</td>\n",
       "      <td>general</td>\n",
       "      <td>서울특별시 중랑구 동일로 952 (묵동, 로프트원 태릉입구역) 1층</td>\n",
       "    </tr>\n",
       "    <tr>\n",
       "      <th>598</th>\n",
       "      <td>양원역</td>\n",
       "      <td>37.6066536267232</td>\n",
       "      <td>127.106359790053</td>\n",
       "      <td>general</td>\n",
       "      <td>서울특별시 중랑구 양원역로10길 3 (망우동)</td>\n",
       "    </tr>\n",
       "    <tr>\n",
       "      <th>599</th>\n",
       "      <td>중화역</td>\n",
       "      <td>37.60170912407773</td>\n",
       "      <td>127.07841136432036</td>\n",
       "      <td>general</td>\n",
       "      <td>서울특별시 중랑구 봉화산로 35</td>\n",
       "    </tr>\n",
       "  </tbody>\n",
       "</table>\n",
       "<p>600 rows × 5 columns</p>\n",
       "</div>"
      ],
      "text/plain": [
       "         매장명                 위도                  경도    매장 타입  \\\n",
       "0    역삼아레나빌딩          37.501087          127.043069  general   \n",
       "1     논현역사거리          37.510178          127.022223  general   \n",
       "2    신사역성일빌딩         37.5139309         127.0206057  general   \n",
       "3     국기원사거리          37.499517          127.031495  general   \n",
       "4    대치재경빌딩R          37.494668          127.062583  reserve   \n",
       "..       ...                ...                 ...      ...   \n",
       "595     사가정역          37.579594          127.087966  general   \n",
       "596      상봉역           37.59689           127.08647  general   \n",
       "597       묵동          37.615368          127.076633  general   \n",
       "598      양원역   37.6066536267232    127.106359790053  general   \n",
       "599      중화역  37.60170912407773  127.07841136432036  general   \n",
       "\n",
       "                                        주소  \n",
       "0                  서울특별시 강남구 언주로 425 (역삼동)  \n",
       "1                 서울특별시 강남구 강남대로 538 (논현동)  \n",
       "2                 서울특별시 강남구 강남대로 584 (논현동)  \n",
       "3                 서울특별시 강남구 테헤란로 125 (역삼동)  \n",
       "4               서울특별시 강남구 남부순환로 2947 (대치동)  \n",
       "..                                     ...  \n",
       "595                      서울특별시 중랑구 면목로 310  \n",
       "596                서울특별시 중랑구 망우로 307 (상봉동)  \n",
       "597  서울특별시 중랑구 동일로 952 (묵동, 로프트원 태릉입구역) 1층  \n",
       "598              서울특별시 중랑구 양원역로10길 3 (망우동)  \n",
       "599                     서울특별시 중랑구 봉화산로 35   \n",
       "\n",
       "[600 rows x 5 columns]"
      ]
     },
     "execution_count": 35,
     "metadata": {},
     "output_type": "execute_result"
    }
   ],
   "source": [
    "# DataFrame 생성\n",
    "columns = ['매장명', '위도', '경도', '매장 타입', '주소']\n",
    "df = pd.DataFrame(starbucks_seoul_list, columns=columns)\n",
    "df"
   ]
  },
  {
   "cell_type": "code",
   "execution_count": 37,
   "metadata": {},
   "outputs": [
    {
     "name": "stdout",
     "output_type": "stream",
     "text": [
      "<class 'pandas.core.frame.DataFrame'>\n",
      "RangeIndex: 600 entries, 0 to 599\n",
      "Data columns (total 5 columns):\n",
      " #   Column  Non-Null Count  Dtype \n",
      "---  ------  --------------  ----- \n",
      " 0   매장명     600 non-null    object\n",
      " 1   위도      600 non-null    object\n",
      " 2   경도      600 non-null    object\n",
      " 3   매장 타입   600 non-null    object\n",
      " 4   주소      600 non-null    object\n",
      "dtypes: object(5)\n",
      "memory usage: 23.6+ KB\n"
     ]
    }
   ],
   "source": [
    "df.info()"
   ]
  },
  {
   "cell_type": "code",
   "execution_count": 38,
   "metadata": {},
   "outputs": [],
   "source": [
    "# 엑셀로 저장\n",
    "df.to_excel('./seoul_starbucks.xlsx', index=False)"
   ]
  }
 ],
 "metadata": {
  "kernelspec": {
   "display_name": "Python 3",
   "language": "python",
   "name": "python3"
  },
  "language_info": {
   "codemirror_mode": {
    "name": "ipython",
    "version": 3
   },
   "file_extension": ".py",
   "mimetype": "text/x-python",
   "name": "python",
   "nbconvert_exporter": "python",
   "pygments_lexer": "ipython3",
   "version": "3.11.4"
  },
  "orig_nbformat": 4,
  "vscode": {
   "interpreter": {
    "hash": "5238573367df39f7286bb46f9ff5f08f63a01a80960060ce41e3c79b190280fa"
   }
  }
 },
 "nbformat": 4,
 "nbformat_minor": 2
}
