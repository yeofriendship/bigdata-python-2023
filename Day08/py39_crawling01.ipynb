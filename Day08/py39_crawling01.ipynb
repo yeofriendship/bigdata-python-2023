{
 "cells": [
  {
   "attachments": {},
   "cell_type": "markdown",
   "metadata": {},
   "source": [
    "#### 멜론 노래 순위 정보 크롤링\n",
    "\n",
    "##### 크롬 드라이버"
   ]
  },
  {
   "cell_type": "code",
   "execution_count": 3,
   "metadata": {},
   "outputs": [],
   "source": [
    "# 크롬 드라이버로 크롬 열기\n",
    "from selenium import webdriver\n",
    "\n",
    "driver = webdriver.Chrome()"
   ]
  },
  {
   "cell_type": "code",
   "execution_count": 4,
   "metadata": {},
   "outputs": [],
   "source": [
    "# 멜론 차트로 진입\n",
    "url = 'https://www.melon.com/chart/index.htm'\n",
    "\n",
    "driver.get(url)"
   ]
  },
  {
   "cell_type": "code",
   "execution_count": 5,
   "metadata": {},
   "outputs": [],
   "source": [
    "# beautifulSoup로 HTML 다운로드\n",
    "from bs4 import BeautifulSoup\n",
    "\n",
    "html = driver.page_source\n",
    "soup = BeautifulSoup(html, 'html.parser') # html.parser / xml / lxml / html5lib"
   ]
  },
  {
   "cell_type": "code",
   "execution_count": 6,
   "metadata": {},
   "outputs": [
    {
     "data": {
      "text/plain": [
       "100"
      ]
     },
     "execution_count": 6,
     "metadata": {},
     "output_type": "execute_result"
    }
   ],
   "source": [
    "songs = soup.select('table > tbody > tr')\n",
    "len(songs)"
   ]
  },
  {
   "cell_type": "code",
   "execution_count": 7,
   "metadata": {},
   "outputs": [
    {
     "data": {
      "text/plain": [
       "<tr class=\"lst50\" data-song-no=\"36430773\" id=\"lst50\">\n",
       "<td><div class=\"wrap t_right\"><input class=\"input_check\" name=\"input_check\" title=\"퀸카 (Queencard) 곡 선택\" type=\"checkbox\" value=\"36430773\"/></div></td>\n",
       "<td><div class=\"wrap t_center\"><span class=\"rank\">1</span><span class=\"none\">위</span></div></td>\n",
       "<!-- 차트순위 추가 -->\n",
       "<td><div class=\"wrap\">\n",
       "<span class=\"rank_wrap\" title=\"순위 동일\">\n",
       "<span class=\"bullet_icons rank_static\"><span class=\"none\">순위 동일</span></span>\n",
       "<span class=\"none\">0</span>\n",
       "</span>\n",
       "</div></td>\n",
       "<td><div class=\"wrap\">\n",
       "<a class=\"image_typeAll\" href=\"javascript:melon.link.goAlbumDetail('11240232');\" title=\"I feel\">\n",
       "<img alt=\"I feel - 페이지 이동\" height=\"60\" onerror=\"WEBPOCIMG.defaultAlbumImg(this);\" src=\"https://cdnimg.melon.co.kr/cm2/album/images/112/40/232/11240232_20230509151820_500.jpg/melon/resize/120/quality/80/optimize\" width=\"60\"/>\n",
       "<span class=\"bg_album_frame\"></span>\n",
       "</a>\n",
       "</div></td>\n",
       "<td><div class=\"wrap\">\n",
       "<a class=\"btn button_icons type03 song_info\" href=\"javascript:melon.link.goSongDetail('36430773');\" title=\"퀸카 (Queencard) 곡정보\"><span class=\"none\">곡정보</span></a>\n",
       "</div></td>\n",
       "<td><div class=\"wrap\">\n",
       "<div class=\"wrap_song_info\">\n",
       "<div class=\"ellipsis rank01\"><span>\n",
       "<a href=\"javascript:melon.play.playSong('1000002721',36430773);\" title=\"퀸카 (Queencard) 재생\">퀸카 (Queencard)</a>\n",
       "</span></div><br/>\n",
       "<div class=\"ellipsis rank02\">\n",
       "<a href=\"javascript:melon.link.goArtistDetail('2137482');\" title=\"(여자)아이들 - 페이지 이동\">(여자)아이들</a><span class=\"checkEllipsis\" style=\"display: none;\"><a href=\"javascript:melon.link.goArtistDetail('2137482');\" title=\"(여자)아이들 - 페이지 이동\">(여자)아이들</a></span>\n",
       "</div>\n",
       "</div>\n",
       "</div></td>\n",
       "<td><div class=\"wrap\">\n",
       "<div class=\"wrap_song_info\">\n",
       "<div class=\"ellipsis rank03\">\n",
       "<a href=\"javascript:melon.link.goAlbumDetail('11240232');\" title=\"I feel - 페이지 이동\">I feel</a>\n",
       "</div>\n",
       "</div>\n",
       "</div></td>\n",
       "<td><div class=\"wrap\">\n",
       "<button class=\"button_etc like\" data-song-menuid=\"1000002721\" data-song-no=\"36430773\" title=\"퀸카 (Queencard) 좋아요\" type=\"button\"><span class=\"odd_span\">좋아요</span>\n",
       "<span class=\"cnt\">\n",
       "<span class=\"none\">총건수</span>\n",
       "105,676</span></button>\n",
       "</div></td>\n",
       "<td><div class=\"wrap t_center\">\n",
       "<button class=\"button_icons play\" onclick=\"melon.play.playSong('1000002721',36430773);\" title=\"듣기\" type=\"button\"><span class=\"none\">듣기</span></button>\n",
       "</div></td>\n",
       "<td><div class=\"wrap t_center\">\n",
       "<button class=\"button_icons scrap\" onclick=\"melon.play.addPlayList('36430773');\" title=\"담기\" type=\"button\"><span class=\"none\">담기</span></button>\n",
       "</div></td>\n",
       "<td><div class=\"wrap t_center\">\n",
       "<button class=\"button_icons download\" onclick=\"melon.buy.goBuyProduct('frm', '36430773', '3C0001', '','0', '1000002721');\" title=\"다운로드\" type=\"button\"><span class=\"none\">다운로드</span></button>\n",
       "</div></td>\n",
       "<td><div class=\"wrap t_center\">\n",
       "<button class=\"button_icons video\" onclick=\"melon.link.goMvDetail('1000002721', '36430773','song');\" title=\"뮤직비디오\" type=\"button\"><span class=\"none\">뮤직비디오</span></button>\n",
       "</div></td>\n",
       "</tr>"
      ]
     },
     "execution_count": 7,
     "metadata": {},
     "output_type": "execute_result"
    }
   ],
   "source": [
    "song = songs[0]\n",
    "song"
   ]
  },
  {
   "cell_type": "code",
   "execution_count": 8,
   "metadata": {},
   "outputs": [
    {
     "data": {
      "text/plain": [
       "'1'"
      ]
     },
     "execution_count": 8,
     "metadata": {},
     "output_type": "execute_result"
    }
   ],
   "source": [
    "song.select('span.rank')[0].text"
   ]
  },
  {
   "cell_type": "code",
   "execution_count": 9,
   "metadata": {},
   "outputs": [
    {
     "data": {
      "text/plain": [
       "[<span class=\"none\">단계 상승</span>]"
      ]
     },
     "execution_count": 9,
     "metadata": {},
     "output_type": "execute_result"
    }
   ],
   "source": [
    "songs[8].select('span.rank_wrap > span > span')"
   ]
  },
  {
   "cell_type": "code",
   "execution_count": 10,
   "metadata": {},
   "outputs": [
    {
     "data": {
      "text/plain": [
       "[<span class=\"up\">1</span>]"
      ]
     },
     "execution_count": 10,
     "metadata": {},
     "output_type": "execute_result"
    }
   ],
   "source": [
    "songs[8].select('span.rank_wrap > span.up')"
   ]
  },
  {
   "cell_type": "code",
   "execution_count": 11,
   "metadata": {},
   "outputs": [
    {
     "data": {
      "text/plain": [
       "'NewJeans'"
      ]
     },
     "execution_count": 11,
     "metadata": {},
     "output_type": "execute_result"
    }
   ],
   "source": [
    "songs[8].select('span.checkEllipsis > a')[0].text"
   ]
  },
  {
   "cell_type": "code",
   "execution_count": 12,
   "metadata": {},
   "outputs": [
    {
     "data": {
      "text/plain": [
       "'Hype boy'"
      ]
     },
     "execution_count": 12,
     "metadata": {},
     "output_type": "execute_result"
    }
   ],
   "source": [
    "songs[8].select('span > a')[0].text"
   ]
  },
  {
   "cell_type": "code",
   "execution_count": 13,
   "metadata": {},
   "outputs": [],
   "source": [
    "result = []\n",
    "for song in songs:\n",
    "    rank = song.select('span.rank')[0].text\n",
    "    title = song.select('span > a')[0].text\n",
    "    singer = song.select('span.checkEllipsis > a')[0].text\n",
    "\n",
    "    # print(rank, title, singer)\n",
    "    result.append([rank, title, singer])"
   ]
  },
  {
   "cell_type": "code",
   "execution_count": 14,
   "metadata": {},
   "outputs": [],
   "source": [
    "import pandas as pd"
   ]
  },
  {
   "cell_type": "code",
   "execution_count": 15,
   "metadata": {},
   "outputs": [
    {
     "data": {
      "text/html": [
       "<div>\n",
       "<style scoped>\n",
       "    .dataframe tbody tr th:only-of-type {\n",
       "        vertical-align: middle;\n",
       "    }\n",
       "\n",
       "    .dataframe tbody tr th {\n",
       "        vertical-align: top;\n",
       "    }\n",
       "\n",
       "    .dataframe thead th {\n",
       "        text-align: right;\n",
       "    }\n",
       "</style>\n",
       "<table border=\"1\" class=\"dataframe\">\n",
       "  <thead>\n",
       "    <tr style=\"text-align: right;\">\n",
       "      <th></th>\n",
       "      <th>0</th>\n",
       "      <th>1</th>\n",
       "      <th>2</th>\n",
       "    </tr>\n",
       "  </thead>\n",
       "  <tbody>\n",
       "    <tr>\n",
       "      <th>0</th>\n",
       "      <td>1</td>\n",
       "      <td>퀸카 (Queencard)</td>\n",
       "      <td>(여자)아이들</td>\n",
       "    </tr>\n",
       "    <tr>\n",
       "      <th>1</th>\n",
       "      <td>2</td>\n",
       "      <td>I AM</td>\n",
       "      <td>IVE (아이브)</td>\n",
       "    </tr>\n",
       "    <tr>\n",
       "      <th>2</th>\n",
       "      <td>3</td>\n",
       "      <td>Spicy</td>\n",
       "      <td>aespa</td>\n",
       "    </tr>\n",
       "    <tr>\n",
       "      <th>3</th>\n",
       "      <td>4</td>\n",
       "      <td>이브, 프시케 그리고 푸른 수염의 아내</td>\n",
       "      <td>LE SSERAFIM (르세라핌)</td>\n",
       "    </tr>\n",
       "    <tr>\n",
       "      <th>4</th>\n",
       "      <td>5</td>\n",
       "      <td>UNFORGIVEN (feat. Nile Rodgers)</td>\n",
       "      <td>LE SSERAFIM (르세라핌)</td>\n",
       "    </tr>\n",
       "    <tr>\n",
       "      <th>...</th>\n",
       "      <td>...</td>\n",
       "      <td>...</td>\n",
       "      <td>...</td>\n",
       "    </tr>\n",
       "    <tr>\n",
       "      <th>95</th>\n",
       "      <td>96</td>\n",
       "      <td>정이라고 하자 (Feat. 10CM)</td>\n",
       "      <td>BIG Naughty (서동현)</td>\n",
       "    </tr>\n",
       "    <tr>\n",
       "      <th>96</th>\n",
       "      <td>97</td>\n",
       "      <td>LOCKDOWN</td>\n",
       "      <td>이세계아이돌</td>\n",
       "    </tr>\n",
       "    <tr>\n",
       "      <th>97</th>\n",
       "      <td>98</td>\n",
       "      <td>Pink Venom</td>\n",
       "      <td>BLACKPINK</td>\n",
       "    </tr>\n",
       "    <tr>\n",
       "      <th>98</th>\n",
       "      <td>99</td>\n",
       "      <td>Say I Love You</td>\n",
       "      <td>우디 (Woody)</td>\n",
       "    </tr>\n",
       "    <tr>\n",
       "      <th>99</th>\n",
       "      <td>100</td>\n",
       "      <td>새삥 (Prod. ZICO) (Feat. 호미들)</td>\n",
       "      <td>지코 (ZICO)</td>\n",
       "    </tr>\n",
       "  </tbody>\n",
       "</table>\n",
       "<p>100 rows × 3 columns</p>\n",
       "</div>"
      ],
      "text/plain": [
       "      0                                1                   2\n",
       "0     1                   퀸카 (Queencard)             (여자)아이들\n",
       "1     2                             I AM           IVE (아이브)\n",
       "2     3                            Spicy               aespa\n",
       "3     4            이브, 프시케 그리고 푸른 수염의 아내  LE SSERAFIM (르세라핌)\n",
       "4     5  UNFORGIVEN (feat. Nile Rodgers)  LE SSERAFIM (르세라핌)\n",
       "..  ...                              ...                 ...\n",
       "95   96             정이라고 하자 (Feat. 10CM)   BIG Naughty (서동현)\n",
       "96   97                         LOCKDOWN              이세계아이돌\n",
       "97   98                       Pink Venom           BLACKPINK\n",
       "98   99                   Say I Love You          우디 (Woody)\n",
       "99  100      새삥 (Prod. ZICO) (Feat. 호미들)           지코 (ZICO)\n",
       "\n",
       "[100 rows x 3 columns]"
      ]
     },
     "execution_count": 15,
     "metadata": {},
     "output_type": "execute_result"
    }
   ],
   "source": [
    "df = pd.DataFrame(result)\n",
    "df"
   ]
  },
  {
   "cell_type": "code",
   "execution_count": 16,
   "metadata": {},
   "outputs": [
    {
     "data": {
      "text/html": [
       "<div>\n",
       "<style scoped>\n",
       "    .dataframe tbody tr th:only-of-type {\n",
       "        vertical-align: middle;\n",
       "    }\n",
       "\n",
       "    .dataframe tbody tr th {\n",
       "        vertical-align: top;\n",
       "    }\n",
       "\n",
       "    .dataframe thead th {\n",
       "        text-align: right;\n",
       "    }\n",
       "</style>\n",
       "<table border=\"1\" class=\"dataframe\">\n",
       "  <thead>\n",
       "    <tr style=\"text-align: right;\">\n",
       "      <th></th>\n",
       "      <th>순위</th>\n",
       "      <th>제목</th>\n",
       "      <th>가수</th>\n",
       "    </tr>\n",
       "  </thead>\n",
       "  <tbody>\n",
       "    <tr>\n",
       "      <th>0</th>\n",
       "      <td>1</td>\n",
       "      <td>퀸카 (Queencard)</td>\n",
       "      <td>(여자)아이들</td>\n",
       "    </tr>\n",
       "    <tr>\n",
       "      <th>1</th>\n",
       "      <td>2</td>\n",
       "      <td>I AM</td>\n",
       "      <td>IVE (아이브)</td>\n",
       "    </tr>\n",
       "    <tr>\n",
       "      <th>2</th>\n",
       "      <td>3</td>\n",
       "      <td>Spicy</td>\n",
       "      <td>aespa</td>\n",
       "    </tr>\n",
       "    <tr>\n",
       "      <th>3</th>\n",
       "      <td>4</td>\n",
       "      <td>이브, 프시케 그리고 푸른 수염의 아내</td>\n",
       "      <td>LE SSERAFIM (르세라핌)</td>\n",
       "    </tr>\n",
       "    <tr>\n",
       "      <th>4</th>\n",
       "      <td>5</td>\n",
       "      <td>UNFORGIVEN (feat. Nile Rodgers)</td>\n",
       "      <td>LE SSERAFIM (르세라핌)</td>\n",
       "    </tr>\n",
       "    <tr>\n",
       "      <th>...</th>\n",
       "      <td>...</td>\n",
       "      <td>...</td>\n",
       "      <td>...</td>\n",
       "    </tr>\n",
       "    <tr>\n",
       "      <th>95</th>\n",
       "      <td>96</td>\n",
       "      <td>정이라고 하자 (Feat. 10CM)</td>\n",
       "      <td>BIG Naughty (서동현)</td>\n",
       "    </tr>\n",
       "    <tr>\n",
       "      <th>96</th>\n",
       "      <td>97</td>\n",
       "      <td>LOCKDOWN</td>\n",
       "      <td>이세계아이돌</td>\n",
       "    </tr>\n",
       "    <tr>\n",
       "      <th>97</th>\n",
       "      <td>98</td>\n",
       "      <td>Pink Venom</td>\n",
       "      <td>BLACKPINK</td>\n",
       "    </tr>\n",
       "    <tr>\n",
       "      <th>98</th>\n",
       "      <td>99</td>\n",
       "      <td>Say I Love You</td>\n",
       "      <td>우디 (Woody)</td>\n",
       "    </tr>\n",
       "    <tr>\n",
       "      <th>99</th>\n",
       "      <td>100</td>\n",
       "      <td>새삥 (Prod. ZICO) (Feat. 호미들)</td>\n",
       "      <td>지코 (ZICO)</td>\n",
       "    </tr>\n",
       "  </tbody>\n",
       "</table>\n",
       "<p>100 rows × 3 columns</p>\n",
       "</div>"
      ],
      "text/plain": [
       "     순위                               제목                  가수\n",
       "0     1                   퀸카 (Queencard)             (여자)아이들\n",
       "1     2                             I AM           IVE (아이브)\n",
       "2     3                            Spicy               aespa\n",
       "3     4            이브, 프시케 그리고 푸른 수염의 아내  LE SSERAFIM (르세라핌)\n",
       "4     5  UNFORGIVEN (feat. Nile Rodgers)  LE SSERAFIM (르세라핌)\n",
       "..  ...                              ...                 ...\n",
       "95   96             정이라고 하자 (Feat. 10CM)   BIG Naughty (서동현)\n",
       "96   97                         LOCKDOWN              이세계아이돌\n",
       "97   98                       Pink Venom           BLACKPINK\n",
       "98   99                   Say I Love You          우디 (Woody)\n",
       "99  100      새삥 (Prod. ZICO) (Feat. 호미들)           지코 (ZICO)\n",
       "\n",
       "[100 rows x 3 columns]"
      ]
     },
     "execution_count": 16,
     "metadata": {},
     "output_type": "execute_result"
    }
   ],
   "source": [
    "df.columns = ['순위', '제목', '가수']\n",
    "df"
   ]
  },
  {
   "cell_type": "code",
   "execution_count": 17,
   "metadata": {},
   "outputs": [],
   "source": [
    "# 데이터 프레임을 csv로 저장\n",
    "df.to_csv('./melon_ranking_100.csv', encoding='utf-8', index=False)"
   ]
  },
  {
   "attachments": {},
   "cell_type": "markdown",
   "metadata": {},
   "source": [
    "#### 셀레니움 만으로 크롤링"
   ]
  },
  {
   "cell_type": "code",
   "execution_count": 18,
   "metadata": {},
   "outputs": [
    {
     "name": "stdout",
     "output_type": "stream",
     "text": [
      "1 퀸카 (Queencard) (여자)아이들\n",
      "2 I AM IVE (아이브)\n",
      "3 Spicy aespa\n",
      "4 이브, 프시케 그리고 푸른 수염의 아내 LE SSERAFIM (르세라핌)\n",
      "5 UNFORGIVEN (feat. Nile Rodgers) LE SSERAFIM (르세라핌)\n",
      "6 Kitsch IVE (아이브)\n",
      "7 사랑은 늘 도망가 임영웅\n",
      "8 헤어지자 말해요 박재정\n",
      "9 Hype boy NewJeans\n",
      "10 모래 알갱이 임영웅\n",
      "11 우리들의 블루스 임영웅\n",
      "12 손오공 세븐틴 (SEVENTEEN)\n",
      "13 꽃 지수 (JISOO)\n",
      "14 다시 만날 수 있을까 임영웅\n",
      "15 Ditto NewJeans\n",
      "16 무지개 임영웅\n",
      "17 London Boy 임영웅\n",
      "18 이제 나만 믿어요 임영웅\n",
      "19 Cupid FIFTY FIFTY\n",
      "20 Polaroid 임영웅\n",
      "21 아버지 임영웅\n",
      "22 OMG NewJeans\n",
      "23 인생찬가 임영웅\n",
      "24 A bientot 임영웅\n",
      "25 사건의 지평선 윤하 (YOUNHA)\n",
      "26 I Don't Think That I Like Her Charlie Puth\n",
      "27 Allergy (여자)아이들\n",
      "28 손이 참 곱던 그대 임영웅\n",
      "29 사랑해 진짜 임영웅\n",
      "30 파이팅 해야지 (Feat. 이영지) 부석순 (SEVENTEEN)\n",
      "31 Dangerously Charlie Puth\n",
      "32 Candy NCT DREAM\n",
      "33 연애편지 임영웅\n",
      "34 After LIKE IVE (아이브)\n",
      "35 Attention NewJeans\n",
      "36 Dynamite 방탄소년단\n",
      "37 Teddy Bear STAYC(스테이씨)\n",
      "38 LOVE DIVE IVE (아이브)\n",
      "39 보금자리 임영웅\n",
      "40 물론 허각\n",
      "41 심(心) DK(디셈버)\n",
      "42 사랑하지 않아서 그랬어 임한별\n",
      "43 Butter 방탄소년단\n",
      "44 ANTIFRAGILE LE SSERAFIM (르세라핌)\n",
      "45 사랑..그게 뭔데 지아\n",
      "46 Take Two 방탄소년단\n",
      "47 사람 Pt.2 (feat. 아이유) Agust D\n",
      "48 잠깐 시간 될까 이무진\n",
      "49 봄날 방탄소년단\n",
      "50 Like Crazy 지민\n",
      "51 Broken Melodies NCT DREAM\n",
      "52 사랑인가 봐 멜로망스\n",
      "53 나에게 그대만이 탑현\n",
      "54 너의 모든 순간 성시경\n",
      "55 Heaven(2023) 임재현\n",
      "56 Permission to Dance 방탄소년단\n",
      "57 NIGHT DANCER imase\n",
      "58 건물 사이에 피어난 장미 (Rose Blossom) H1-KEY (하이키)\n",
      "59 빛이 나는 너에게 던 (DAWN)\n",
      "60 HARD SHINee (샤이니)\n",
      "61 Dreamers [Music from the FIFA World Cup Qatar 2022 Official Soundtrack] (Feat. FIFA Sound) 정국, 방탄소년단\n",
      "62 That's Hilarious Charlie Puth\n",
      "63 Thirsty aespa\n",
      "64 The Planet 방탄소년단\n",
      "65 사실말야내가말야그게그러니까말이야 케이시 (Kassy)\n",
      "66 STAY The Kid LAROI, Justin Bieber\n",
      "67 첫 키스에 내 심장은 120BPM 경서\n",
      "68 찬란한 하루 멜로망스\n",
      "69 KNOCK 이채연\n",
      "70 TOMBOY (여자)아이들\n",
      "71 Angel Pt. 1 (Feat. Kodak Black, NLE Choppa, JVKE, Muni Long) Fast & Furious: The Fast Saga, 지민\n",
      "72 Nxde (여자)아이들\n",
      "73 사랑의 바보 제이세라\n",
      "74 해요 (2022) #안녕\n",
      "75 취중고백 김민석 (멜로망스)\n",
      "76 부동의 첫사랑 10CM\n",
      "77 on the street (with J. Cole) j-hope, J. Cole\n",
      "78 안녕이라고 말하지마 V.O.S\n",
      "79 나의 바람 (Wind And Wish) 비투비\n",
      "80 That’s Not How This Works (feat. Dan + Shay) Charlie Puth\n",
      "81 한사람만 (2023) (여름날 우리 X 이홍기 (FT아일랜드)) 이홍기 (FT아일랜드)\n",
      "82 Monologue 테이\n",
      "83 CHRISTIAN Zior Park\n",
      "84 ELEVEN IVE (아이브)\n",
      "85 다정히 내 이름을 부르면 경서예지, 전건호\n",
      "86 사랑하기 싫어 지아\n",
      "87 그라데이션 10CM\n",
      "88 Love Me Like This NMIXX\n",
      "89 FRIEND THE END 볼빨간사춘기\n",
      "90 그중에 그대를 만나 김호중\n",
      "91 FEARLESS LE SSERAFIM (르세라핌)\n",
      "92 Shut Down BLACKPINK\n",
      "93 사랑하지 않아서 그랬니 지아\n",
      "94 한강에서 (Feat. BIG Naughty) 폴킴\n",
      "95 내가 아니라도 주호\n",
      "96 정이라고 하자 (Feat. 10CM) BIG Naughty (서동현)\n",
      "97 LOCKDOWN 이세계아이돌\n",
      "98 Pink Venom BLACKPINK\n",
      "99 Say I Love You 우디 (Woody)\n",
      "100 새삥 (Prod. ZICO) (Feat. 호미들) 지코 (ZICO)\n"
     ]
    }
   ],
   "source": [
    "from selenium.webdriver.common.by import By\n",
    "\n",
    "s_songs = driver.find_elements(By.XPATH, '//table/tbody/tr')\n",
    "\n",
    "for song in s_songs:\n",
    "    # print(song.text.split('\\n'))\n",
    "    tmp = song.text.split('\\n')\n",
    "    # print(tmp)\n",
    "    rank = tmp[0]\n",
    "    title = tmp[-5]\n",
    "    singer = tmp[-4]\n",
    "    # # print(rank)\n",
    "    # # print(tmp[-5])\n",
    "    # # print(tmp[-4])\n",
    "    print(rank, title, singer)"
   ]
  },
  {
   "attachments": {},
   "cell_type": "markdown",
   "metadata": {},
   "source": [
    "#### 벅스 인기차트 100 크롤링"
   ]
  },
  {
   "cell_type": "code",
   "execution_count": 19,
   "metadata": {},
   "outputs": [],
   "source": [
    "driver = webdriver.Chrome()\n",
    "driver.get('https://music.bugs.co.kr/chart')"
   ]
  },
  {
   "cell_type": "code",
   "execution_count": 20,
   "metadata": {},
   "outputs": [],
   "source": [
    "# 벅스차트 html 가져오기\n",
    "html = driver.page_source\n",
    "soup = BeautifulSoup(html, 'html.parser')"
   ]
  },
  {
   "cell_type": "code",
   "execution_count": 21,
   "metadata": {},
   "outputs": [
    {
     "data": {
      "text/plain": [
       "100"
      ]
     },
     "execution_count": 21,
     "metadata": {},
     "output_type": "execute_result"
    }
   ],
   "source": [
    "# 벅스 페이지 내에 table이 두개 존재하므로 table의 클래스명까지 검색해야 차트 100개가 나옴\n",
    "songs = soup.select('table.byChart > tbody > tr')\n",
    "len(songs)"
   ]
  },
  {
   "cell_type": "code",
   "execution_count": 22,
   "metadata": {},
   "outputs": [],
   "source": [
    "result = []\n",
    "for song in songs:\n",
    "    title = song.select('p.title > a')[0].text\n",
    "    singer = song.select('p.artist > a')[0].text\n",
    "    rank = song.select('td > div.ranking > strong')[0].text\n",
    "\n",
    "    # print(rank, title, singer)\n",
    "    result.append([rank, title, singer])"
   ]
  },
  {
   "cell_type": "code",
   "execution_count": 23,
   "metadata": {},
   "outputs": [
    {
     "data": {
      "text/html": [
       "<div>\n",
       "<style scoped>\n",
       "    .dataframe tbody tr th:only-of-type {\n",
       "        vertical-align: middle;\n",
       "    }\n",
       "\n",
       "    .dataframe tbody tr th {\n",
       "        vertical-align: top;\n",
       "    }\n",
       "\n",
       "    .dataframe thead th {\n",
       "        text-align: right;\n",
       "    }\n",
       "</style>\n",
       "<table border=\"1\" class=\"dataframe\">\n",
       "  <thead>\n",
       "    <tr style=\"text-align: right;\">\n",
       "      <th></th>\n",
       "      <th>0</th>\n",
       "      <th>1</th>\n",
       "      <th>2</th>\n",
       "    </tr>\n",
       "  </thead>\n",
       "  <tbody>\n",
       "    <tr>\n",
       "      <th>0</th>\n",
       "      <td>1</td>\n",
       "      <td>퀸카 (Queencard)</td>\n",
       "      <td>(여자)아이들</td>\n",
       "    </tr>\n",
       "    <tr>\n",
       "      <th>1</th>\n",
       "      <td>2</td>\n",
       "      <td>I AM</td>\n",
       "      <td>IVE (아이브)</td>\n",
       "    </tr>\n",
       "    <tr>\n",
       "      <th>2</th>\n",
       "      <td>3</td>\n",
       "      <td>HARD</td>\n",
       "      <td>SHINee (샤이니)</td>\n",
       "    </tr>\n",
       "    <tr>\n",
       "      <th>3</th>\n",
       "      <td>4</td>\n",
       "      <td>이브, 프시케 그리고 푸른 수염의 아내</td>\n",
       "      <td>LE SSERAFIM (르세라핌)</td>\n",
       "    </tr>\n",
       "    <tr>\n",
       "      <th>4</th>\n",
       "      <td>5</td>\n",
       "      <td>Spicy</td>\n",
       "      <td>aespa</td>\n",
       "    </tr>\n",
       "    <tr>\n",
       "      <th>...</th>\n",
       "      <td>...</td>\n",
       "      <td>...</td>\n",
       "      <td>...</td>\n",
       "    </tr>\n",
       "    <tr>\n",
       "      <th>95</th>\n",
       "      <td>96</td>\n",
       "      <td>사랑하지 않아서 그랬니</td>\n",
       "      <td>지아(Zia)</td>\n",
       "    </tr>\n",
       "    <tr>\n",
       "      <th>96</th>\n",
       "      <td>97</td>\n",
       "      <td>한강에서 (Feat. BIG Naughty)</td>\n",
       "      <td>폴킴(Paul Kim)</td>\n",
       "    </tr>\n",
       "    <tr>\n",
       "      <th>97</th>\n",
       "      <td>98</td>\n",
       "      <td>Leave The Door Open</td>\n",
       "      <td>Bruno Mars(브루노 마스)</td>\n",
       "    </tr>\n",
       "    <tr>\n",
       "      <th>98</th>\n",
       "      <td>99</td>\n",
       "      <td>딱 10CM만</td>\n",
       "      <td>10CM</td>\n",
       "    </tr>\n",
       "    <tr>\n",
       "      <th>99</th>\n",
       "      <td>100</td>\n",
       "      <td>부동의 첫사랑</td>\n",
       "      <td>10CM</td>\n",
       "    </tr>\n",
       "  </tbody>\n",
       "</table>\n",
       "<p>100 rows × 3 columns</p>\n",
       "</div>"
      ],
      "text/plain": [
       "      0                         1                   2\n",
       "0     1            퀸카 (Queencard)             (여자)아이들\n",
       "1     2                      I AM           IVE (아이브)\n",
       "2     3                      HARD        SHINee (샤이니)\n",
       "3     4     이브, 프시케 그리고 푸른 수염의 아내  LE SSERAFIM (르세라핌)\n",
       "4     5                     Spicy               aespa\n",
       "..  ...                       ...                 ...\n",
       "95   96              사랑하지 않아서 그랬니             지아(Zia)\n",
       "96   97  한강에서 (Feat. BIG Naughty)        폴킴(Paul Kim)\n",
       "97   98       Leave The Door Open  Bruno Mars(브루노 마스)\n",
       "98   99                   딱 10CM만                10CM\n",
       "99  100                   부동의 첫사랑                10CM\n",
       "\n",
       "[100 rows x 3 columns]"
      ]
     },
     "execution_count": 23,
     "metadata": {},
     "output_type": "execute_result"
    }
   ],
   "source": [
    "df = pd.DataFrame(result)\n",
    "df"
   ]
  },
  {
   "cell_type": "code",
   "execution_count": 24,
   "metadata": {},
   "outputs": [
    {
     "data": {
      "text/html": [
       "<div>\n",
       "<style scoped>\n",
       "    .dataframe tbody tr th:only-of-type {\n",
       "        vertical-align: middle;\n",
       "    }\n",
       "\n",
       "    .dataframe tbody tr th {\n",
       "        vertical-align: top;\n",
       "    }\n",
       "\n",
       "    .dataframe thead th {\n",
       "        text-align: right;\n",
       "    }\n",
       "</style>\n",
       "<table border=\"1\" class=\"dataframe\">\n",
       "  <thead>\n",
       "    <tr style=\"text-align: right;\">\n",
       "      <th></th>\n",
       "      <th>순위</th>\n",
       "      <th>제목</th>\n",
       "      <th>가수명</th>\n",
       "    </tr>\n",
       "  </thead>\n",
       "  <tbody>\n",
       "    <tr>\n",
       "      <th>0</th>\n",
       "      <td>1</td>\n",
       "      <td>퀸카 (Queencard)</td>\n",
       "      <td>(여자)아이들</td>\n",
       "    </tr>\n",
       "    <tr>\n",
       "      <th>1</th>\n",
       "      <td>2</td>\n",
       "      <td>I AM</td>\n",
       "      <td>IVE (아이브)</td>\n",
       "    </tr>\n",
       "    <tr>\n",
       "      <th>2</th>\n",
       "      <td>3</td>\n",
       "      <td>HARD</td>\n",
       "      <td>SHINee (샤이니)</td>\n",
       "    </tr>\n",
       "    <tr>\n",
       "      <th>3</th>\n",
       "      <td>4</td>\n",
       "      <td>이브, 프시케 그리고 푸른 수염의 아내</td>\n",
       "      <td>LE SSERAFIM (르세라핌)</td>\n",
       "    </tr>\n",
       "    <tr>\n",
       "      <th>4</th>\n",
       "      <td>5</td>\n",
       "      <td>Spicy</td>\n",
       "      <td>aespa</td>\n",
       "    </tr>\n",
       "    <tr>\n",
       "      <th>...</th>\n",
       "      <td>...</td>\n",
       "      <td>...</td>\n",
       "      <td>...</td>\n",
       "    </tr>\n",
       "    <tr>\n",
       "      <th>95</th>\n",
       "      <td>96</td>\n",
       "      <td>사랑하지 않아서 그랬니</td>\n",
       "      <td>지아(Zia)</td>\n",
       "    </tr>\n",
       "    <tr>\n",
       "      <th>96</th>\n",
       "      <td>97</td>\n",
       "      <td>한강에서 (Feat. BIG Naughty)</td>\n",
       "      <td>폴킴(Paul Kim)</td>\n",
       "    </tr>\n",
       "    <tr>\n",
       "      <th>97</th>\n",
       "      <td>98</td>\n",
       "      <td>Leave The Door Open</td>\n",
       "      <td>Bruno Mars(브루노 마스)</td>\n",
       "    </tr>\n",
       "    <tr>\n",
       "      <th>98</th>\n",
       "      <td>99</td>\n",
       "      <td>딱 10CM만</td>\n",
       "      <td>10CM</td>\n",
       "    </tr>\n",
       "    <tr>\n",
       "      <th>99</th>\n",
       "      <td>100</td>\n",
       "      <td>부동의 첫사랑</td>\n",
       "      <td>10CM</td>\n",
       "    </tr>\n",
       "  </tbody>\n",
       "</table>\n",
       "<p>100 rows × 3 columns</p>\n",
       "</div>"
      ],
      "text/plain": [
       "     순위                        제목                 가수명\n",
       "0     1            퀸카 (Queencard)             (여자)아이들\n",
       "1     2                      I AM           IVE (아이브)\n",
       "2     3                      HARD        SHINee (샤이니)\n",
       "3     4     이브, 프시케 그리고 푸른 수염의 아내  LE SSERAFIM (르세라핌)\n",
       "4     5                     Spicy               aespa\n",
       "..  ...                       ...                 ...\n",
       "95   96              사랑하지 않아서 그랬니             지아(Zia)\n",
       "96   97  한강에서 (Feat. BIG Naughty)        폴킴(Paul Kim)\n",
       "97   98       Leave The Door Open  Bruno Mars(브루노 마스)\n",
       "98   99                   딱 10CM만                10CM\n",
       "99  100                   부동의 첫사랑                10CM\n",
       "\n",
       "[100 rows x 3 columns]"
      ]
     },
     "execution_count": 24,
     "metadata": {},
     "output_type": "execute_result"
    }
   ],
   "source": [
    "df.columns = ['순위', '제목', '가수명']\n",
    "df"
   ]
  },
  {
   "cell_type": "code",
   "execution_count": 25,
   "metadata": {},
   "outputs": [],
   "source": [
    "df.to_csv('./bugs_ranking_100.csv', encoding='utf-8', index=False)"
   ]
  }
 ],
 "metadata": {
  "kernelspec": {
   "display_name": "Python 3",
   "language": "python",
   "name": "python3"
  },
  "language_info": {
   "codemirror_mode": {
    "name": "ipython",
    "version": 3
   },
   "file_extension": ".py",
   "mimetype": "text/x-python",
   "name": "python",
   "nbconvert_exporter": "python",
   "pygments_lexer": "ipython3",
   "version": "3.11.4"
  },
  "orig_nbformat": 4,
  "vscode": {
   "interpreter": {
    "hash": "5238573367df39f7286bb46f9ff5f08f63a01a80960060ce41e3c79b190280fa"
   }
  }
 },
 "nbformat": 4,
 "nbformat_minor": 2
}
